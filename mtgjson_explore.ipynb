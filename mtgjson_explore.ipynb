{
 "cells": [
  {
   "cell_type": "code",
   "execution_count": 1,
   "id": "cbb2f986",
   "metadata": {},
   "outputs": [],
   "source": [
    "import pandas as pd\n",
    "import json"
   ]
  },
  {
   "cell_type": "code",
   "execution_count": 6,
   "id": "c557fefd",
   "metadata": {},
   "outputs": [],
   "source": [
    "with open('data/raw/AllPrintings.json', encoding=\"utf8\") as f:\n",
    "    data = json.load(f)"
   ]
  },
  {
   "cell_type": "code",
   "execution_count": 3,
   "id": "4d77439a",
   "metadata": {},
   "outputs": [
    {
     "name": "stdout",
     "output_type": "stream",
     "text": [
      "{'date': '2021-08-04', 'version': '5.1.0+20210804'}\n"
     ]
    }
   ],
   "source": [
    "print(data['meta'])"
   ]
  },
  {
   "cell_type": "code",
   "execution_count": 7,
   "id": "e5e17559",
   "metadata": {},
   "outputs": [],
   "source": [
    "editions = data['data'].keys()"
   ]
  },
  {
   "cell_type": "code",
   "execution_count": null,
   "id": "e00274bd",
   "metadata": {},
   "outputs": [],
   "source": [
    "editions2 = [edition for edition in data['data'].keys()]"
   ]
  },
  {
   "cell_type": "code",
   "execution_count": null,
   "id": "e1569e95",
   "metadata": {},
   "outputs": [],
   "source": [
    "type(editions2)"
   ]
  },
  {
   "cell_type": "code",
   "execution_count": null,
   "id": "187ba623",
   "metadata": {},
   "outputs": [],
   "source": [
    "type(editions)"
   ]
  },
  {
   "cell_type": "code",
   "execution_count": null,
   "id": "115320a8",
   "metadata": {},
   "outputs": [],
   "source": [
    "print(editions2[:5])"
   ]
  },
  {
   "cell_type": "code",
   "execution_count": null,
   "id": "b32ff03c",
   "metadata": {},
   "outputs": [],
   "source": [
    "for edition in editions:\n",
    "    print(data['data'][edition])\n",
    "    break"
   ]
  },
  {
   "cell_type": "code",
   "execution_count": null,
   "id": "cef73a56",
   "metadata": {},
   "outputs": [],
   "source": [
    "data_str = json.dumps(data['data']['BFZ']['cards'][1], indent = 2)"
   ]
  },
  {
   "cell_type": "code",
   "execution_count": null,
   "id": "7ecbd19d",
   "metadata": {},
   "outputs": [],
   "source": [
    "print(data_str)"
   ]
  },
  {
   "cell_type": "code",
   "execution_count": null,
   "id": "76cd2fb9",
   "metadata": {},
   "outputs": [],
   "source": [
    "cards_n = (len(data['data']['10E']['cards']))"
   ]
  },
  {
   "cell_type": "code",
   "execution_count": null,
   "id": "e4fc53c6",
   "metadata": {},
   "outputs": [],
   "source": [
    "for edition in editions:\n",
    "    print('Set:',data['data'][edition]['name'])\n",
    "    cards_n = len(data['data'][edition]['cards'])\n",
    "    print('Number of cards:', cards_n)\n",
    "    \n",
    "    for i in range(1,cards_n):\n",
    "        print(data['data'][edition]['cards'][i]['name'])\n",
    "    break"
   ]
  },
  {
   "cell_type": "code",
   "execution_count": 10,
   "id": "eb1b9148",
   "metadata": {},
   "outputs": [
    {
     "ename": "NameError",
     "evalue": "name 'mtgj_id' is not defined",
     "output_type": "error",
     "traceback": [
      "\u001b[1;31m---------------------------------------------------------------------------\u001b[0m",
      "\u001b[1;31mNameError\u001b[0m                                 Traceback (most recent call last)",
      "\u001b[1;32m~\\AppData\\Local\\Temp\\1/ipykernel_20024/111815490.py\u001b[0m in \u001b[0;36m<module>\u001b[1;34m\u001b[0m\n\u001b[0;32m     31\u001b[0m             \u001b[1;34m'set_name'\u001b[0m\u001b[1;33m:\u001b[0m \u001b[0mset_name\u001b[0m\u001b[1;33m,\u001b[0m\u001b[1;33m\u001b[0m\u001b[1;33m\u001b[0m\u001b[0m\n\u001b[0;32m     32\u001b[0m             \u001b[1;34m'card_name'\u001b[0m\u001b[1;33m:\u001b[0m \u001b[0mcard\u001b[0m\u001b[1;33m,\u001b[0m\u001b[1;33m\u001b[0m\u001b[1;33m\u001b[0m\u001b[0m\n\u001b[1;32m---> 33\u001b[1;33m             \u001b[1;34m'mtgj_id'\u001b[0m\u001b[1;33m:\u001b[0m \u001b[0mmtgj_id\u001b[0m\u001b[1;33m,\u001b[0m\u001b[1;33m\u001b[0m\u001b[1;33m\u001b[0m\u001b[0m\n\u001b[0m\u001b[0;32m     34\u001b[0m             \u001b[1;34m'colors'\u001b[0m\u001b[1;33m:\u001b[0m \u001b[0mcolors\u001b[0m\u001b[1;33m,\u001b[0m\u001b[1;33m\u001b[0m\u001b[1;33m\u001b[0m\u001b[0m\n\u001b[0;32m     35\u001b[0m             \u001b[1;34m'hasNonFoil'\u001b[0m\u001b[1;33m:\u001b[0m \u001b[0mdata\u001b[0m\u001b[1;33m[\u001b[0m\u001b[1;34m'data'\u001b[0m\u001b[1;33m]\u001b[0m\u001b[1;33m[\u001b[0m\u001b[0medition\u001b[0m\u001b[1;33m]\u001b[0m\u001b[1;33m[\u001b[0m\u001b[1;34m'cards'\u001b[0m\u001b[1;33m]\u001b[0m\u001b[1;33m[\u001b[0m\u001b[0mi\u001b[0m\u001b[1;33m]\u001b[0m\u001b[1;33m[\u001b[0m\u001b[1;34m'hasNonFoil'\u001b[0m\u001b[1;33m]\u001b[0m\u001b[1;33m,\u001b[0m\u001b[1;33m\u001b[0m\u001b[1;33m\u001b[0m\u001b[0m\n",
      "\u001b[1;31mNameError\u001b[0m: name 'mtgj_id' is not defined"
     ]
    }
   ],
   "source": [
    "results = []\n",
    "set_results = []\n",
    "\n",
    "for edition in editions:\n",
    "    set_name = data['data'][edition]['name']\n",
    "    set_code = data['data'][edition]['code']\n",
    "    cards_base_n = data['data'][edition]['baseSetSize']\n",
    "    cards_n = data['data'][edition]['totalSetSize']\n",
    "    calc_n = len(data['data'][edition]['cards']) #add in check if the abs(calc_n - cards_n) <> 0\n",
    "    release_date = data['data'][edition]['releaseDate']\n",
    "    \n",
    "    set_info = {\n",
    "        'set_name': set_name,\n",
    "        'set_code': set_code,\n",
    "        'release_date': release_date,\n",
    "        'base set size': cards_base_n,\n",
    "        'cards total N': cards_n,\n",
    "        'type': data['data'][edition]['type'],\n",
    "        'isOnlineOnly': data['data'][edition]['isOnlineOnly']\n",
    "    }\n",
    "    \n",
    "    set_results.append(set_info)\n",
    "    #print('Number of cards:', cards_n)\n",
    "    \n",
    "    for i in range(1,cards_n):\n",
    "        card = data['data'][edition]['cards'][i]['name']\n",
    "        mtgjson_id = data['data'][edition]['cards'][i]['identifiers']['mtgjsonV4Id']\n",
    "        colors = data['data'][edition]['cards'][i]['colors']\n",
    "\n",
    "        card_info = {\n",
    "            'set_name': set_name,\n",
    "            'card_name': card,\n",
    "            'mtgj_id': mtgj_id,\n",
    "            'colors': colors,\n",
    "            'hasNonFoil': data['data'][edition]['cards'][i]['hasNonFoil'],\n",
    "            'hasFoil': data['data'][edition]['cards'][i]['hasFoil'],\n",
    "            'isReprint': data['data'][edition]['cards'][i]['isReprint']\n",
    "        }\n",
    "        #print(colors)\n",
    "        results.append(card_info)\n",
    "        \n",
    "    #print(results)\n",
    "    break"
   ]
  },
  {
   "cell_type": "code",
   "execution_count": 25,
   "id": "f1959baa",
   "metadata": {},
   "outputs": [
    {
     "data": {
      "text/html": [
       "<div>\n",
       "<style scoped>\n",
       "    .dataframe tbody tr th:only-of-type {\n",
       "        vertical-align: middle;\n",
       "    }\n",
       "\n",
       "    .dataframe tbody tr th {\n",
       "        vertical-align: top;\n",
       "    }\n",
       "\n",
       "    .dataframe thead th {\n",
       "        text-align: right;\n",
       "    }\n",
       "</style>\n",
       "<table border=\"1\" class=\"dataframe\">\n",
       "  <thead>\n",
       "    <tr style=\"text-align: right;\">\n",
       "      <th></th>\n",
       "      <th>set_name</th>\n",
       "      <th>card_name</th>\n",
       "      <th>mtgj_id</th>\n",
       "      <th>colors</th>\n",
       "      <th>hasNonFoil</th>\n",
       "      <th>hasFoil</th>\n",
       "      <th>isReprint</th>\n",
       "    </tr>\n",
       "  </thead>\n",
       "  <tbody>\n",
       "    <tr>\n",
       "      <th>0</th>\n",
       "      <td>Tenth Edition</td>\n",
       "      <td>Angel of Mercy</td>\n",
       "      <td>c9e15486-c19b-5fe2-8d16-87b1bed3b809</td>\n",
       "      <td>[W]</td>\n",
       "      <td>True</td>\n",
       "      <td>False</td>\n",
       "      <td>True</td>\n",
       "    </tr>\n",
       "    <tr>\n",
       "      <th>1</th>\n",
       "      <td>Tenth Edition</td>\n",
       "      <td>Aven Cloudchaser</td>\n",
       "      <td>c9e15486-c19b-5fe2-8d16-87b1bed3b809</td>\n",
       "      <td>[W]</td>\n",
       "      <td>True</td>\n",
       "      <td>False</td>\n",
       "      <td>True</td>\n",
       "    </tr>\n",
       "    <tr>\n",
       "      <th>2</th>\n",
       "      <td>Tenth Edition</td>\n",
       "      <td>Ballista Squad</td>\n",
       "      <td>c9e15486-c19b-5fe2-8d16-87b1bed3b809</td>\n",
       "      <td>[W]</td>\n",
       "      <td>True</td>\n",
       "      <td>True</td>\n",
       "      <td>True</td>\n",
       "    </tr>\n",
       "    <tr>\n",
       "      <th>3</th>\n",
       "      <td>Tenth Edition</td>\n",
       "      <td>Bandage</td>\n",
       "      <td>c9e15486-c19b-5fe2-8d16-87b1bed3b809</td>\n",
       "      <td>[W]</td>\n",
       "      <td>True</td>\n",
       "      <td>True</td>\n",
       "      <td>True</td>\n",
       "    </tr>\n",
       "    <tr>\n",
       "      <th>4</th>\n",
       "      <td>Tenth Edition</td>\n",
       "      <td>Beacon of Immortality</td>\n",
       "      <td>c9e15486-c19b-5fe2-8d16-87b1bed3b809</td>\n",
       "      <td>[W]</td>\n",
       "      <td>True</td>\n",
       "      <td>True</td>\n",
       "      <td>True</td>\n",
       "    </tr>\n",
       "    <tr>\n",
       "      <th>...</th>\n",
       "      <td>...</td>\n",
       "      <td>...</td>\n",
       "      <td>...</td>\n",
       "      <td>...</td>\n",
       "      <td>...</td>\n",
       "      <td>...</td>\n",
       "      <td>...</td>\n",
       "    </tr>\n",
       "    <tr>\n",
       "      <th>502</th>\n",
       "      <td>Tenth Edition</td>\n",
       "      <td>Fog Elemental</td>\n",
       "      <td>c9e15486-c19b-5fe2-8d16-87b1bed3b809</td>\n",
       "      <td>[U]</td>\n",
       "      <td>False</td>\n",
       "      <td>True</td>\n",
       "      <td>True</td>\n",
       "    </tr>\n",
       "    <tr>\n",
       "      <th>503</th>\n",
       "      <td>Tenth Edition</td>\n",
       "      <td>Mahamoti Djinn</td>\n",
       "      <td>c9e15486-c19b-5fe2-8d16-87b1bed3b809</td>\n",
       "      <td>[U]</td>\n",
       "      <td>False</td>\n",
       "      <td>True</td>\n",
       "      <td>True</td>\n",
       "    </tr>\n",
       "    <tr>\n",
       "      <th>504</th>\n",
       "      <td>Tenth Edition</td>\n",
       "      <td>March of the Machines</td>\n",
       "      <td>c9e15486-c19b-5fe2-8d16-87b1bed3b809</td>\n",
       "      <td>[U]</td>\n",
       "      <td>False</td>\n",
       "      <td>True</td>\n",
       "      <td>True</td>\n",
       "    </tr>\n",
       "    <tr>\n",
       "      <th>505</th>\n",
       "      <td>Tenth Edition</td>\n",
       "      <td>Mind Bend</td>\n",
       "      <td>c9e15486-c19b-5fe2-8d16-87b1bed3b809</td>\n",
       "      <td>[U]</td>\n",
       "      <td>False</td>\n",
       "      <td>True</td>\n",
       "      <td>True</td>\n",
       "    </tr>\n",
       "    <tr>\n",
       "      <th>506</th>\n",
       "      <td>Tenth Edition</td>\n",
       "      <td>Persuasion</td>\n",
       "      <td>c9e15486-c19b-5fe2-8d16-87b1bed3b809</td>\n",
       "      <td>[U]</td>\n",
       "      <td>False</td>\n",
       "      <td>True</td>\n",
       "      <td>True</td>\n",
       "    </tr>\n",
       "  </tbody>\n",
       "</table>\n",
       "<p>507 rows × 7 columns</p>\n",
       "</div>"
      ],
      "text/plain": [
       "          set_name              card_name  \\\n",
       "0    Tenth Edition         Angel of Mercy   \n",
       "1    Tenth Edition       Aven Cloudchaser   \n",
       "2    Tenth Edition         Ballista Squad   \n",
       "3    Tenth Edition                Bandage   \n",
       "4    Tenth Edition  Beacon of Immortality   \n",
       "..             ...                    ...   \n",
       "502  Tenth Edition          Fog Elemental   \n",
       "503  Tenth Edition         Mahamoti Djinn   \n",
       "504  Tenth Edition  March of the Machines   \n",
       "505  Tenth Edition              Mind Bend   \n",
       "506  Tenth Edition             Persuasion   \n",
       "\n",
       "                                  mtgj_id colors  hasNonFoil  hasFoil  \\\n",
       "0    c9e15486-c19b-5fe2-8d16-87b1bed3b809    [W]        True    False   \n",
       "1    c9e15486-c19b-5fe2-8d16-87b1bed3b809    [W]        True    False   \n",
       "2    c9e15486-c19b-5fe2-8d16-87b1bed3b809    [W]        True     True   \n",
       "3    c9e15486-c19b-5fe2-8d16-87b1bed3b809    [W]        True     True   \n",
       "4    c9e15486-c19b-5fe2-8d16-87b1bed3b809    [W]        True     True   \n",
       "..                                    ...    ...         ...      ...   \n",
       "502  c9e15486-c19b-5fe2-8d16-87b1bed3b809    [U]       False     True   \n",
       "503  c9e15486-c19b-5fe2-8d16-87b1bed3b809    [U]       False     True   \n",
       "504  c9e15486-c19b-5fe2-8d16-87b1bed3b809    [U]       False     True   \n",
       "505  c9e15486-c19b-5fe2-8d16-87b1bed3b809    [U]       False     True   \n",
       "506  c9e15486-c19b-5fe2-8d16-87b1bed3b809    [U]       False     True   \n",
       "\n",
       "     isReprint  \n",
       "0         True  \n",
       "1         True  \n",
       "2         True  \n",
       "3         True  \n",
       "4         True  \n",
       "..         ...  \n",
       "502       True  \n",
       "503       True  \n",
       "504       True  \n",
       "505       True  \n",
       "506       True  \n",
       "\n",
       "[507 rows x 7 columns]"
      ]
     },
     "execution_count": 25,
     "metadata": {},
     "output_type": "execute_result"
    }
   ],
   "source": [
    "pd.DataFrame.from_dict(results)"
   ]
  },
  {
   "cell_type": "code",
   "execution_count": 19,
   "id": "e0a26110",
   "metadata": {},
   "outputs": [
    {
     "data": {
      "text/html": [
       "<div>\n",
       "<style scoped>\n",
       "    .dataframe tbody tr th:only-of-type {\n",
       "        vertical-align: middle;\n",
       "    }\n",
       "\n",
       "    .dataframe tbody tr th {\n",
       "        vertical-align: top;\n",
       "    }\n",
       "\n",
       "    .dataframe thead th {\n",
       "        text-align: right;\n",
       "    }\n",
       "</style>\n",
       "<table border=\"1\" class=\"dataframe\">\n",
       "  <thead>\n",
       "    <tr style=\"text-align: right;\">\n",
       "      <th></th>\n",
       "      <th>set_name</th>\n",
       "      <th>set_code</th>\n",
       "      <th>release_date</th>\n",
       "      <th>base set size</th>\n",
       "      <th>cards total N</th>\n",
       "      <th>type</th>\n",
       "      <th>isOnlineOnly</th>\n",
       "    </tr>\n",
       "  </thead>\n",
       "  <tbody>\n",
       "    <tr>\n",
       "      <th>0</th>\n",
       "      <td>Tenth Edition</td>\n",
       "      <td>10E</td>\n",
       "      <td>2007-07-13</td>\n",
       "      <td>383</td>\n",
       "      <td>508</td>\n",
       "      <td>core</td>\n",
       "      <td>False</td>\n",
       "    </tr>\n",
       "  </tbody>\n",
       "</table>\n",
       "</div>"
      ],
      "text/plain": [
       "        set_name set_code release_date  base set size  cards total N  type  \\\n",
       "0  Tenth Edition      10E   2007-07-13            383            508  core   \n",
       "\n",
       "   isOnlineOnly  \n",
       "0         False  "
      ]
     },
     "execution_count": 19,
     "metadata": {},
     "output_type": "execute_result"
    }
   ],
   "source": [
    "pd.DataFrame.from_dict(set_results)"
   ]
  },
  {
   "cell_type": "code",
   "execution_count": 30,
   "id": "1ab5c0fd",
   "metadata": {},
   "outputs": [],
   "source": [
    "results_df = pd.DataFrame.from_dict(results)\n",
    "results_df.to_csv('data/test.csv')"
   ]
  },
  {
   "cell_type": "code",
   "execution_count": null,
   "id": "151a7d5a",
   "metadata": {},
   "outputs": [],
   "source": [
    "import pprint\n",
    "pp = pprint.PrettyPrinter(indent=2)\n",
    "pp.pprint(results)"
   ]
  },
  {
   "cell_type": "code",
   "execution_count": 2,
   "id": "1e7a02f8",
   "metadata": {},
   "outputs": [],
   "source": [
    "import requests\n",
    "zipurl = 'https://mtgjson.com/api/v5/AllPrintings.json.zip'\n",
    "resp = requests.get(zipurl)\n",
    "\n",
    "zname = \"data/tmp/AllPrintings.json.zip\"\n",
    "zfile = open(zname, 'wb')\n",
    "zfile.write(resp.content)\n",
    "zfile.close()"
   ]
  },
  {
   "cell_type": "code",
   "execution_count": 3,
   "id": "b0a57ff7",
   "metadata": {},
   "outputs": [],
   "source": [
    "from zipfile import ZipFile\n",
    "\n",
    "# Create a ZipFile Object and load sample.zip in it\n",
    "with ZipFile('data/tmp/AllPrintings.json.zip', 'r') as zipObj:\n",
    "   # Extract all the contents of zip file in different directory\n",
    "   zipObj.extractall('data/raw')"
   ]
  },
  {
   "cell_type": "code",
   "execution_count": 11,
   "id": "dc65eda1",
   "metadata": {},
   "outputs": [],
   "source": [
    "### PRINT OUT CSV JUST FOR KHM\n",
    "\n",
    "results = []\n",
    "set_info = []\n",
    "\n",
    "set_name = data['data']['KHM']['name']\n",
    "set_code = data['data']['KHM']['code']\n",
    "cards_base_n = data['data']['KHM']['baseSetSize']\n",
    "cards_n = data['data']['KHM']['totalSetSize']\n",
    "calc_n = len(data['data']['KHM']['cards']) #add in check if the abs(calc_n - cards_n) <> 0\n",
    "release_date = data['data']['KHM']['releaseDate']\n",
    "    \n",
    "set_info = {\n",
    "    'set_name': set_name,\n",
    "    'set_code': set_code,\n",
    "    'release_date': release_date,\n",
    "    'base set size': cards_base_n,\n",
    "    'cards total N': cards_n,\n",
    "    'cards total N (calc)': calc_n,\n",
    "    'type': data['data']['KHM']['type'],\n",
    "    'isOnlineOnly': data['data']['KHM']['isOnlineOnly']\n",
    "}\n",
    "\n",
    "    \n",
    "for i in range(1,calc_n):\n",
    "    card = data['data']['KHM']['cards'][i]['name']\n",
    "    mtgjson_id = data['data']['KHM']['cards'][i]['identifiers']['mtgjsonV4Id']\n",
    "    colors = data['data']['KHM']['cards'][i]['colors']\n",
    "\n",
    "    card_info = {\n",
    "        'set_name': set_name,\n",
    "        'card_name': card,\n",
    "        'mtgjson_id': mtgjson_id,\n",
    "        'colors': colors,\n",
    "        'hasNonFoil': data['data']['KHM']['cards'][i]['hasNonFoil'],\n",
    "        'hasFoil': data['data']['KHM']['cards'][i]['hasFoil']\n",
    "    }\n",
    "    results.append(card_info)"
   ]
  },
  {
   "cell_type": "code",
   "execution_count": 15,
   "id": "42dc3a42",
   "metadata": {},
   "outputs": [],
   "source": [
    "results_df = pd.DataFrame.from_dict(results)"
   ]
  },
  {
   "cell_type": "code",
   "execution_count": 13,
   "id": "262eb6f5",
   "metadata": {},
   "outputs": [
    {
     "name": "stdout",
     "output_type": "stream",
     "text": [
      "{'set_name': 'Kaldheim', 'set_code': 'KHM', 'release_date': '2021-02-05', 'base set size': 285, 'cards total N': 438, 'cards total N (calc)': 438, 'type': 'expansion', 'isOnlineOnly': False}\n"
     ]
    }
   ],
   "source": [
    "print(set_info)"
   ]
  },
  {
   "cell_type": "code",
   "execution_count": 16,
   "id": "d6c3b5a0",
   "metadata": {},
   "outputs": [],
   "source": [
    "results_df.to_csv('data/out/test.csv')"
   ]
  },
  {
   "cell_type": "code",
   "execution_count": null,
   "id": "5140e35d",
   "metadata": {},
   "outputs": [],
   "source": []
  }
 ],
 "metadata": {
  "kernelspec": {
   "display_name": "Python 3 (ipykernel)",
   "language": "python",
   "name": "python3"
  },
  "language_info": {
   "codemirror_mode": {
    "name": "ipython",
    "version": 3
   },
   "file_extension": ".py",
   "mimetype": "text/x-python",
   "name": "python",
   "nbconvert_exporter": "python",
   "pygments_lexer": "ipython3",
   "version": "3.8.10"
  }
 },
 "nbformat": 4,
 "nbformat_minor": 5
}
