{
 "cells": [
  {
   "cell_type": "code",
   "execution_count": null,
   "id": "f55fbb6b",
   "metadata": {},
   "outputs": [],
   "source": [
    "import requests\n",
    "zipurl = 'https://mtgjson.com/api/v5/AllPrintings.json.zip'\n",
    "resp = requests.get(zipurl)\n",
    "\n",
    "zname = \"data/tmp/AllPrintings.json.zip\"\n",
    "zfile = open(zname, 'wb')\n",
    "zfile.write(resp.content)\n",
    "zfile.close()\n",
    "\n",
    "from zipfile import ZipFile\n",
    "\n",
    "# Create a ZipFile Object and load sample.zip in it\n",
    "with ZipFile('data/tmp/AllPrintings.json.zip', 'r') as zipObj:\n",
    "   # Extract all the contents of zip file in different directory\n",
    "   zipObj.extractall('data/raw')"
   ]
  },
  {
   "cell_type": "code",
   "execution_count": null,
   "id": "16a3442c",
   "metadata": {},
   "outputs": [],
   "source": [
    "import pandas as pd\n",
    "import json\n",
    "\n",
    "with open('data/raw/AllPrintings.json', encoding=\"utf8\") as f:\n",
    "    data = json.load(f)"
   ]
  },
  {
   "cell_type": "code",
   "execution_count": null,
   "id": "389c1575",
   "metadata": {},
   "outputs": [],
   "source": [
    "### PRINT OUT CSV JUST FOR KHM\n",
    "\n",
    "results = []\n",
    "set_info = []\n",
    "editions = data['data'].keys()\n",
    "\n",
    "set_name = data['data']['KHM']['name']\n",
    "set_code = data['data']['KHM']['code']\n",
    "cards_base_n = data['data']['KHM']['baseSetSize']\n",
    "cards_n = data['data']['KHM']['totalSetSize']\n",
    "calc_n = len(data['data']['KHM']['cards']) #add in check if the abs(calc_n - cards_n) <> 0\n",
    "release_date = data['data']['KHM']['releaseDate']\n",
    "    \n",
    "set_info = {\n",
    "    'set_name': set_name,\n",
    "    'set_code': set_code,\n",
    "    'release_date': release_date,\n",
    "    'base set size': cards_base_n,\n",
    "    'cards total N': cards_n,\n",
    "    'cards total N (calc)': calc_n,\n",
    "    'type': data['data']['KHM']['type'],\n",
    "    'isOnlineOnly': data['data']['KHM']['isOnlineOnly']\n",
    "}\n",
    "\n",
    "    \n",
    "for i in range(1,calc_n):\n",
    "    card = data['data']['KHM']['cards'][i]['name']\n",
    "    mtgjson_id = data['data']['KHM']['cards'][i]['identifiers']['mtgjsonV4Id']\n",
    "    colors = data['data']['KHM']['cards'][i]['colors']\n",
    "\n",
    "    card_info = {\n",
    "        'set_name': set_name,\n",
    "        'card_name': card,\n",
    "        'mtgjson_id': mtgjson_id,\n",
    "        'colors': colors,\n",
    "        'hasNonFoil': data['data']['KHM']['cards'][i]['hasNonFoil'],\n",
    "        'hasFoil': data['data']['KHM']['cards'][i]['hasFoil']\n",
    "    }\n",
    "    results.append(card_info)\n",
    "    \n",
    "results_df = pd.DataFrame.from_dict(results)\n",
    "\n",
    "results_df.to_csv('data/out/test.csv')"
   ]
  },
  {
   "cell_type": "code",
   "execution_count": null,
   "id": "cc08a21a",
   "metadata": {},
   "outputs": [],
   "source": [
    "print(set_info)"
   ]
  }
 ],
 "metadata": {
  "kernelspec": {
   "display_name": "Python 3 (ipykernel)",
   "language": "python",
   "name": "python3"
  },
  "language_info": {
   "codemirror_mode": {
    "name": "ipython",
    "version": 3
   },
   "file_extension": ".py",
   "mimetype": "text/x-python",
   "name": "python",
   "nbconvert_exporter": "python",
   "pygments_lexer": "ipython3",
   "version": "3.8.10"
  }
 },
 "nbformat": 4,
 "nbformat_minor": 5
}
