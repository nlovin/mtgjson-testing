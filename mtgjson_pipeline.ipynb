{
 "cells": [
  {
   "cell_type": "code",
   "execution_count": 1,
   "id": "f55fbb6b",
   "metadata": {},
   "outputs": [
    {
     "name": "stderr",
     "output_type": "stream",
     "text": [
      "/Users/nathan-lovin/.local/share/virtualenvs/mtgjson-testing-aGmfpptf/lib/python3.9/site-packages/urllib3/connectionpool.py:1013: InsecureRequestWarning: Unverified HTTPS request is being made to host 'mtgjson.com'. Adding certificate verification is strongly advised. See: https://urllib3.readthedocs.io/en/1.26.x/advanced-usage.html#ssl-warnings\n",
      "  warnings.warn(\n"
     ]
    }
   ],
   "source": [
    "import requests\n",
    "zipurl = 'https://mtgjson.com/api/v5/AllPrintings.json.zip'\n",
    "resp = requests.get(zipurl, verify=False) # verify=False on work computer bc IT proxy / vpn that's in place DO NOT recommend in general\n",
    "\n",
    "zname = \"data/tmp/AllPrintings.json.zip\"\n",
    "zfile = open(zname, 'wb')\n",
    "zfile.write(resp.content)\n",
    "zfile.close()\n",
    "\n",
    "from zipfile import ZipFile\n",
    "\n",
    "# Create a ZipFile Object and load sample.zip in it\n",
    "with ZipFile('data/tmp/AllPrintings.json.zip', 'r') as zipObj:\n",
    "   # Extract all the contents of zip file in different directory\n",
    "   zipObj.extractall('data/raw')"
   ]
  },
  {
   "cell_type": "code",
   "execution_count": 2,
   "id": "16a3442c",
   "metadata": {},
   "outputs": [],
   "source": [
    "import pandas as pd\n",
    "import json\n",
    "\n",
    "with open('data/raw/AllPrintings.json', encoding=\"utf8\") as f:\n",
    "    data = json.load(f)\n",
    "\n",
    "editions = data['data'].keys()\n",
    "mtgdb_data_date = data['meta']['date']\n",
    "mtgdb_data_version = data['meta']['version']"
   ]
  },
  {
   "cell_type": "code",
   "execution_count": 13,
   "metadata": {
    "collapsed": false,
    "pycharm": {
     "name": "#%%\n"
    }
   },
   "outputs": [],
   "source": [
    "set_info = []\n",
    "card_set = []\n",
    "card_atomic = []\n",
    "\n",
    "for edition in editions:\n",
    "    tmp_set_info = {\n",
    "        'set_name': data['data'][edition].get('name'),\n",
    "        'set_code': data['data'][edition].get('code'),\n",
    "        'release_date': data['data'][edition].get('releaseDate'),\n",
    "        'base_set_size': data['data'][edition].get('baseSetSize'),\n",
    "        'cards_total_n': data['data'][edition].get('totalSetSize'),\n",
    "        'cards_total_n_calc': len(data['data'][edition]['cards']), #add in check if the abs(calc_n - cards_n) <> 0\n",
    "        'type': data['data'][edition].get('type'),\n",
    "        'isOnlineOnly': data['data'][edition].get('isOnlineOnly')\n",
    "    }\n",
    "\n",
    "    set_info.append(tmp_set_info)\n",
    "    #print('Number of cards:', cards_n)\n",
    "\n",
    "    for i in range(1,cards_n):\n",
    "        # set basic json structure we're going iterate through\n",
    "        json_structure_cards = data['data'][edition]['cards'][i]\n",
    "\n",
    "        # build out our tmp single card dictionary\n",
    "        tmp_card_set = {\n",
    "            'set_name': data['data'][edition].get('name'),\n",
    "            'set_code': json_structure_cards.get('setCode'),\n",
    "            'card_name': json_structure_cards.get('name'),\n",
    "            'mtgjsonV4Id': json_structure_cards['identifiers'].get('mtgjsonV4Id'), #old_unique_id\n",
    "            'uuid': json_structure_cards.get('uuid'), # new_unique_id\n",
    "            'supertypes': json_structure_cards.get('supertypes'),\n",
    "            'type': json_structure_cards.get('type'),\n",
    "            'types': json_structure_cards.get('types'),\n",
    "            'subtypes': json_structure_cards.get('subtypes'),\n",
    "            'colors': json_structure_cards.get('colors'),\n",
    "            'variations': json_structure_cards.get('variations'),\n",
    "            'hasNonFoil': json_structure_cards.get('hasNonFoil'),\n",
    "            'hasFoil': json_structure_cards.get('hasFoil'),\n",
    "            'isReprint': json_structure_cards.get('isReprint')\n",
    "        }\n",
    "\n",
    "        # append tmp single card dictionary to the growing all cards dictionary\n",
    "        card_set.append(tmp_card_set)\n",
    "\n",
    "    # clean up tmp dicts\n",
    "    del tmp_set_info\n",
    "    del tmp_card_set\n",
    "\n",
    "    # break the loop to just grab one set for now\n",
    "    break\n",
    "\n",
    "# dump our card dictionary into a pandas d\n",
    "set_info_df = pd.DataFrame.from_dict(set_info)\n",
    "card_set_df = pd.DataFrame.from_dict(card_set)\n"
   ]
  },
  {
   "cell_type": "code",
   "execution_count": 14,
   "outputs": [
    {
     "data": {
      "text/plain": "          set_name set_code              card_name  \\\n0    Tenth Edition      10E         Angel of Mercy   \n1    Tenth Edition      10E       Aven Cloudchaser   \n2    Tenth Edition      10E         Ballista Squad   \n3    Tenth Edition      10E                Bandage   \n4    Tenth Edition      10E  Beacon of Immortality   \n..             ...      ...                    ...   \n502  Tenth Edition      10E          Fog Elemental   \n503  Tenth Edition      10E         Mahamoti Djinn   \n504  Tenth Edition      10E  March of the Machines   \n505  Tenth Edition      10E              Mind Bend   \n506  Tenth Edition      10E             Persuasion   \n\n                               mtgjson_id  \\\n0    9eb2e54c-a12b-5e88-a9c0-d8c84c52d59c   \n1    c0de6fd8-367a-50fb-b2f4-2b8fa5aeb7d9   \n2    bfbb65b1-f1bb-5355-9495-fb094f9b0782   \n3    a634f6df-fd74-54d9-a56c-3fdd2ad3e9bf   \n4    43f8222f-3fd5-5491-9e76-5b1cc9a86e93   \n..                                    ...   \n502  6cbe5d76-5244-5a2a-b9d1-30272b9e7d7a   \n503  9b06de27-31d8-503b-ae35-b291ea9da383   \n504  cfb2cdd2-2a70-5ec8-b4d0-bd9d51c2db75   \n505  9ce04474-1ee6-5ac2-812a-dace4c7331ce   \n506  c9e15486-c19b-5fe2-8d16-87b1bed3b809   \n\n                                     uuid supertypes                     type  \\\n0    57aaebc1-850c-503d-9f6e-bb8d00d8bf7c         []         Creature — Angel   \n1    8ac972b5-9f6e-5cc8-91c3-b9a40a98232e         []  Creature — Bird Soldier   \n2    a69b404f-144a-5317-b10e-7d9dce135b24         []   Creature — Human Rebel   \n3    6d268c95-c176-5766-9a46-c14f739aba1c         []                  Instant   \n4    56f4935b-f6c5-59b9-88bf-9bcce20247ce         []                  Instant   \n..                                    ...        ...                      ...   \n502  6c515488-2a63-5b1e-84a4-987b5fa993af         []     Creature — Elemental   \n503  206c4a07-1442-5fee-acd8-7a8a00da57a4         []         Creature — Djinn   \n504  82306a22-03b6-5cbd-ba72-0002755c4217         []              Enchantment   \n505  b00ad339-0cc1-59d4-b8a4-c827b6512b6c         []                  Instant   \n506  022ee2d2-d02b-580e-a549-ed9555ef9153         []       Enchantment — Aura   \n\n             types         subtypes colors  \\\n0       [Creature]          [Angel]    [W]   \n1       [Creature]  [Bird, Soldier]    [W]   \n2       [Creature]   [Human, Rebel]    [W]   \n3        [Instant]               []    [W]   \n4        [Instant]               []    [W]   \n..             ...              ...    ...   \n502     [Creature]      [Elemental]    [U]   \n503     [Creature]          [Djinn]    [U]   \n504  [Enchantment]               []    [U]   \n505      [Instant]               []    [U]   \n506  [Enchantment]           [Aura]    [U]   \n\n                                 variations  hasNonFoil  hasFoil  isReprint  \n0    [8fd4e2eb-3eb4-50ea-856b-ef638fa47f8a]        True    False       True  \n1    [6adaf14d-43e3-521a-adf1-960c808e5b1a]        True    False       True  \n2                                      None        True     True       True  \n3                                      None        True     True       True  \n4                                      None        True     True       True  \n..                                      ...         ...      ...        ...  \n502  [5d45d146-5a42-502e-affb-71f3e81cf7e0]       False     True       True  \n503  [404d6f98-eefb-5dea-8e81-aed2b5956437]       False     True       True  \n504  [60961bae-4655-5a6b-843d-f6180c2c310d]       False     True       True  \n505  [7cf5654d-d547-50ce-838a-75ff6045fd0f]       False     True       True  \n506  [b4f659b7-bef9-527b-95e8-55cc9c444ea4]       False     True       True  \n\n[507 rows x 14 columns]",
      "text/html": "<div>\n<style scoped>\n    .dataframe tbody tr th:only-of-type {\n        vertical-align: middle;\n    }\n\n    .dataframe tbody tr th {\n        vertical-align: top;\n    }\n\n    .dataframe thead th {\n        text-align: right;\n    }\n</style>\n<table border=\"1\" class=\"dataframe\">\n  <thead>\n    <tr style=\"text-align: right;\">\n      <th></th>\n      <th>set_name</th>\n      <th>set_code</th>\n      <th>card_name</th>\n      <th>mtgjson_id</th>\n      <th>uuid</th>\n      <th>supertypes</th>\n      <th>type</th>\n      <th>types</th>\n      <th>subtypes</th>\n      <th>colors</th>\n      <th>variations</th>\n      <th>hasNonFoil</th>\n      <th>hasFoil</th>\n      <th>isReprint</th>\n    </tr>\n  </thead>\n  <tbody>\n    <tr>\n      <th>0</th>\n      <td>Tenth Edition</td>\n      <td>10E</td>\n      <td>Angel of Mercy</td>\n      <td>9eb2e54c-a12b-5e88-a9c0-d8c84c52d59c</td>\n      <td>57aaebc1-850c-503d-9f6e-bb8d00d8bf7c</td>\n      <td>[]</td>\n      <td>Creature — Angel</td>\n      <td>[Creature]</td>\n      <td>[Angel]</td>\n      <td>[W]</td>\n      <td>[8fd4e2eb-3eb4-50ea-856b-ef638fa47f8a]</td>\n      <td>True</td>\n      <td>False</td>\n      <td>True</td>\n    </tr>\n    <tr>\n      <th>1</th>\n      <td>Tenth Edition</td>\n      <td>10E</td>\n      <td>Aven Cloudchaser</td>\n      <td>c0de6fd8-367a-50fb-b2f4-2b8fa5aeb7d9</td>\n      <td>8ac972b5-9f6e-5cc8-91c3-b9a40a98232e</td>\n      <td>[]</td>\n      <td>Creature — Bird Soldier</td>\n      <td>[Creature]</td>\n      <td>[Bird, Soldier]</td>\n      <td>[W]</td>\n      <td>[6adaf14d-43e3-521a-adf1-960c808e5b1a]</td>\n      <td>True</td>\n      <td>False</td>\n      <td>True</td>\n    </tr>\n    <tr>\n      <th>2</th>\n      <td>Tenth Edition</td>\n      <td>10E</td>\n      <td>Ballista Squad</td>\n      <td>bfbb65b1-f1bb-5355-9495-fb094f9b0782</td>\n      <td>a69b404f-144a-5317-b10e-7d9dce135b24</td>\n      <td>[]</td>\n      <td>Creature — Human Rebel</td>\n      <td>[Creature]</td>\n      <td>[Human, Rebel]</td>\n      <td>[W]</td>\n      <td>None</td>\n      <td>True</td>\n      <td>True</td>\n      <td>True</td>\n    </tr>\n    <tr>\n      <th>3</th>\n      <td>Tenth Edition</td>\n      <td>10E</td>\n      <td>Bandage</td>\n      <td>a634f6df-fd74-54d9-a56c-3fdd2ad3e9bf</td>\n      <td>6d268c95-c176-5766-9a46-c14f739aba1c</td>\n      <td>[]</td>\n      <td>Instant</td>\n      <td>[Instant]</td>\n      <td>[]</td>\n      <td>[W]</td>\n      <td>None</td>\n      <td>True</td>\n      <td>True</td>\n      <td>True</td>\n    </tr>\n    <tr>\n      <th>4</th>\n      <td>Tenth Edition</td>\n      <td>10E</td>\n      <td>Beacon of Immortality</td>\n      <td>43f8222f-3fd5-5491-9e76-5b1cc9a86e93</td>\n      <td>56f4935b-f6c5-59b9-88bf-9bcce20247ce</td>\n      <td>[]</td>\n      <td>Instant</td>\n      <td>[Instant]</td>\n      <td>[]</td>\n      <td>[W]</td>\n      <td>None</td>\n      <td>True</td>\n      <td>True</td>\n      <td>True</td>\n    </tr>\n    <tr>\n      <th>...</th>\n      <td>...</td>\n      <td>...</td>\n      <td>...</td>\n      <td>...</td>\n      <td>...</td>\n      <td>...</td>\n      <td>...</td>\n      <td>...</td>\n      <td>...</td>\n      <td>...</td>\n      <td>...</td>\n      <td>...</td>\n      <td>...</td>\n      <td>...</td>\n    </tr>\n    <tr>\n      <th>502</th>\n      <td>Tenth Edition</td>\n      <td>10E</td>\n      <td>Fog Elemental</td>\n      <td>6cbe5d76-5244-5a2a-b9d1-30272b9e7d7a</td>\n      <td>6c515488-2a63-5b1e-84a4-987b5fa993af</td>\n      <td>[]</td>\n      <td>Creature — Elemental</td>\n      <td>[Creature]</td>\n      <td>[Elemental]</td>\n      <td>[U]</td>\n      <td>[5d45d146-5a42-502e-affb-71f3e81cf7e0]</td>\n      <td>False</td>\n      <td>True</td>\n      <td>True</td>\n    </tr>\n    <tr>\n      <th>503</th>\n      <td>Tenth Edition</td>\n      <td>10E</td>\n      <td>Mahamoti Djinn</td>\n      <td>9b06de27-31d8-503b-ae35-b291ea9da383</td>\n      <td>206c4a07-1442-5fee-acd8-7a8a00da57a4</td>\n      <td>[]</td>\n      <td>Creature — Djinn</td>\n      <td>[Creature]</td>\n      <td>[Djinn]</td>\n      <td>[U]</td>\n      <td>[404d6f98-eefb-5dea-8e81-aed2b5956437]</td>\n      <td>False</td>\n      <td>True</td>\n      <td>True</td>\n    </tr>\n    <tr>\n      <th>504</th>\n      <td>Tenth Edition</td>\n      <td>10E</td>\n      <td>March of the Machines</td>\n      <td>cfb2cdd2-2a70-5ec8-b4d0-bd9d51c2db75</td>\n      <td>82306a22-03b6-5cbd-ba72-0002755c4217</td>\n      <td>[]</td>\n      <td>Enchantment</td>\n      <td>[Enchantment]</td>\n      <td>[]</td>\n      <td>[U]</td>\n      <td>[60961bae-4655-5a6b-843d-f6180c2c310d]</td>\n      <td>False</td>\n      <td>True</td>\n      <td>True</td>\n    </tr>\n    <tr>\n      <th>505</th>\n      <td>Tenth Edition</td>\n      <td>10E</td>\n      <td>Mind Bend</td>\n      <td>9ce04474-1ee6-5ac2-812a-dace4c7331ce</td>\n      <td>b00ad339-0cc1-59d4-b8a4-c827b6512b6c</td>\n      <td>[]</td>\n      <td>Instant</td>\n      <td>[Instant]</td>\n      <td>[]</td>\n      <td>[U]</td>\n      <td>[7cf5654d-d547-50ce-838a-75ff6045fd0f]</td>\n      <td>False</td>\n      <td>True</td>\n      <td>True</td>\n    </tr>\n    <tr>\n      <th>506</th>\n      <td>Tenth Edition</td>\n      <td>10E</td>\n      <td>Persuasion</td>\n      <td>c9e15486-c19b-5fe2-8d16-87b1bed3b809</td>\n      <td>022ee2d2-d02b-580e-a549-ed9555ef9153</td>\n      <td>[]</td>\n      <td>Enchantment — Aura</td>\n      <td>[Enchantment]</td>\n      <td>[Aura]</td>\n      <td>[U]</td>\n      <td>[b4f659b7-bef9-527b-95e8-55cc9c444ea4]</td>\n      <td>False</td>\n      <td>True</td>\n      <td>True</td>\n    </tr>\n  </tbody>\n</table>\n<p>507 rows × 14 columns</p>\n</div>"
     },
     "execution_count": 14,
     "metadata": {},
     "output_type": "execute_result"
    }
   ],
   "source": [
    "card_set_df"
   ],
   "metadata": {
    "collapsed": false,
    "pycharm": {
     "name": "#%%\n"
    }
   }
  },
  {
   "cell_type": "code",
   "execution_count": 12,
   "outputs": [
    {
     "data": {
      "text/plain": "        set_name set_code release_date  base_set_size  cards_total_n  \\\n0  Tenth Edition      10E   2007-07-13            383            508   \n\n   cards_total_n_calc  type  isOnlineOnly  \n0                 508  core         False  ",
      "text/html": "<div>\n<style scoped>\n    .dataframe tbody tr th:only-of-type {\n        vertical-align: middle;\n    }\n\n    .dataframe tbody tr th {\n        vertical-align: top;\n    }\n\n    .dataframe thead th {\n        text-align: right;\n    }\n</style>\n<table border=\"1\" class=\"dataframe\">\n  <thead>\n    <tr style=\"text-align: right;\">\n      <th></th>\n      <th>set_name</th>\n      <th>set_code</th>\n      <th>release_date</th>\n      <th>base_set_size</th>\n      <th>cards_total_n</th>\n      <th>cards_total_n_calc</th>\n      <th>type</th>\n      <th>isOnlineOnly</th>\n    </tr>\n  </thead>\n  <tbody>\n    <tr>\n      <th>0</th>\n      <td>Tenth Edition</td>\n      <td>10E</td>\n      <td>2007-07-13</td>\n      <td>383</td>\n      <td>508</td>\n      <td>508</td>\n      <td>core</td>\n      <td>False</td>\n    </tr>\n  </tbody>\n</table>\n</div>"
     },
     "execution_count": 12,
     "metadata": {},
     "output_type": "execute_result"
    }
   ],
   "source": [
    "set_info_df"
   ],
   "metadata": {
    "collapsed": false,
    "pycharm": {
     "name": "#%%\n"
    }
   }
  }
 ],
 "metadata": {
  "kernelspec": {
   "display_name": "Python 3 (ipykernel)",
   "language": "python",
   "name": "python3"
  },
  "language_info": {
   "codemirror_mode": {
    "name": "ipython",
    "version": 3
   },
   "file_extension": ".py",
   "mimetype": "text/x-python",
   "name": "python",
   "nbconvert_exporter": "python",
   "pygments_lexer": "ipython3",
   "version": "3.9.9"
  }
 },
 "nbformat": 4,
 "nbformat_minor": 5
}