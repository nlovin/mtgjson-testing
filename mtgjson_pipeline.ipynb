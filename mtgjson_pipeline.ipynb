{
 "cells": [
  {
   "cell_type": "code",
   "execution_count": 4,
   "id": "f55fbb6b",
   "metadata": {},
   "outputs": [],
   "source": [
    "import requests\n",
    "zipurl = 'https://mtgjson.com/api/v5/AllPrintings.json.zip'\n",
    "resp = requests.get(zipurl, verify=False) # verify=False on work computer bc IT proxy / vpn that's in place DO NOT recommend in general\n",
    "\n",
    "zname = \"data/tmp/AllPrintings.json.zip\"\n",
    "zfile = open(zname, 'wb')\n",
    "zfile.write(resp.content)\n",
    "zfile.close()\n",
    "\n",
    "from zipfile import ZipFile\n",
    "\n",
    "# Create a ZipFile Object and load sample.zip in it\n",
    "with ZipFile('data/tmp/AllPrintings.json.zip', 'r') as zipObj:\n",
    "   # Extract all the contents of zip file in different directory\n",
    "   zipObj.extractall('data/raw')"
   ]
  },
  {
   "cell_type": "code",
   "execution_count": 18,
   "id": "16a3442c",
   "metadata": {},
   "outputs": [],
   "source": [
    "import pandas as pd\n",
    "import json\n",
    "\n",
    "with open('data/raw/AllPrintings.json', encoding=\"utf8\") as f:\n",
    "    data = json.load(f)\n",
    "\n",
    "editions = data['data'].keys()"
   ]
  },
  {
   "cell_type": "code",
   "execution_count": 54,
   "metadata": {
    "collapsed": false,
    "pycharm": {
     "name": "#%%\n"
    }
   },
   "outputs": [],
   "source": [
    "set_info = []\n",
    "card_info = []\n",
    "\n",
    "for edition in editions:\n",
    "    set_name = data['data'][edition].get('name')\n",
    "    set_code = data['data'][edition].get('code')\n",
    "    cards_base_n = data['data'][edition].get('baseSetSize')\n",
    "    cards_n = data['data'][edition].get('totalSetSize')\n",
    "    calc_n = len(data['data'][edition]['cards']) #add in check if the abs(calc_n - cards_n) <> 0\n",
    "    release_date = data['data'][edition].get('releaseDate')\n",
    "\n",
    "    tmp_set_info = {\n",
    "        'set_name': set_name,\n",
    "        'set_code': set_code,\n",
    "        'release_date': release_date,\n",
    "        'base_set_size': cards_base_n,\n",
    "        'cards_total_n': cards_n,\n",
    "        'cards_total_n_calc': calc_n,\n",
    "        'type': data['data'][edition].get('type'),\n",
    "        'isOnlineOnly': data['data'][edition].get('isOnlineOnly')\n",
    "    }\n",
    "\n",
    "    set_info.append(tmp_set_info)\n",
    "    #print('Number of cards:', cards_n)\n",
    "\n",
    "    for i in range(1,cards_n):\n",
    "        # set basic json structure we're going iterate through\n",
    "        json_structure_cards = data['data'][edition]['cards'][i]\n",
    "\n",
    "        # build out our tmp single card dictionary\n",
    "        tmp_card_info = {\n",
    "            'set_name': set_name,\n",
    "            'card_name': json_structure_cards.get('name'),\n",
    "            'mtgjson_id': json_structure_cards['identifiers'].get('mtgjsonV4Id'),\n",
    "            'colors': json_structure_cards.get('colors'),\n",
    "            'hasNonFoil': json_structure_cards.get('hasNonFoil'),\n",
    "            'hasFoil': json_structure_cards.get('hasFoil'),\n",
    "            'isReprint': json_structure_cards.get('isReprint')\n",
    "        }\n",
    "\n",
    "        # append tmp single card dictionary to the growing all cards dictionary\n",
    "        card_info.append(tmp_card_info)\n",
    "\n",
    "    # clean up tmp dicts\n",
    "    del tmp_set_info\n",
    "    del tmp_card_info\n",
    "\n",
    "    # break the loop to just grab one set for now\n",
    "    break\n",
    "\n",
    "# dump our card dictionary into a pandas d\n",
    "set_info_df = pd.DataFrame.from_dict(set_info)\n",
    "card_info_df = pd.DataFrame.from_dict(card_info)\n"
   ]
  },
  {
   "cell_type": "code",
   "execution_count": 55,
   "outputs": [
    {
     "data": {
      "text/plain": "          set_name              card_name  \\\n0    Tenth Edition         Angel of Mercy   \n1    Tenth Edition       Aven Cloudchaser   \n2    Tenth Edition         Ballista Squad   \n3    Tenth Edition                Bandage   \n4    Tenth Edition  Beacon of Immortality   \n..             ...                    ...   \n502  Tenth Edition          Fog Elemental   \n503  Tenth Edition         Mahamoti Djinn   \n504  Tenth Edition  March of the Machines   \n505  Tenth Edition              Mind Bend   \n506  Tenth Edition             Persuasion   \n\n                               mtgjson_id colors  hasNonFoil  hasFoil  \\\n0    9eb2e54c-a12b-5e88-a9c0-d8c84c52d59c    [W]        True    False   \n1    c0de6fd8-367a-50fb-b2f4-2b8fa5aeb7d9    [W]        True    False   \n2    bfbb65b1-f1bb-5355-9495-fb094f9b0782    [W]        True     True   \n3    a634f6df-fd74-54d9-a56c-3fdd2ad3e9bf    [W]        True     True   \n4    43f8222f-3fd5-5491-9e76-5b1cc9a86e93    [W]        True     True   \n..                                    ...    ...         ...      ...   \n502  6cbe5d76-5244-5a2a-b9d1-30272b9e7d7a    [U]       False     True   \n503  9b06de27-31d8-503b-ae35-b291ea9da383    [U]       False     True   \n504  cfb2cdd2-2a70-5ec8-b4d0-bd9d51c2db75    [U]       False     True   \n505  9ce04474-1ee6-5ac2-812a-dace4c7331ce    [U]       False     True   \n506  c9e15486-c19b-5fe2-8d16-87b1bed3b809    [U]       False     True   \n\n     isReprint  \n0         True  \n1         True  \n2         True  \n3         True  \n4         True  \n..         ...  \n502       True  \n503       True  \n504       True  \n505       True  \n506       True  \n\n[507 rows x 7 columns]",
      "text/html": "<div>\n<style scoped>\n    .dataframe tbody tr th:only-of-type {\n        vertical-align: middle;\n    }\n\n    .dataframe tbody tr th {\n        vertical-align: top;\n    }\n\n    .dataframe thead th {\n        text-align: right;\n    }\n</style>\n<table border=\"1\" class=\"dataframe\">\n  <thead>\n    <tr style=\"text-align: right;\">\n      <th></th>\n      <th>set_name</th>\n      <th>card_name</th>\n      <th>mtgjson_id</th>\n      <th>colors</th>\n      <th>hasNonFoil</th>\n      <th>hasFoil</th>\n      <th>isReprint</th>\n    </tr>\n  </thead>\n  <tbody>\n    <tr>\n      <th>0</th>\n      <td>Tenth Edition</td>\n      <td>Angel of Mercy</td>\n      <td>9eb2e54c-a12b-5e88-a9c0-d8c84c52d59c</td>\n      <td>[W]</td>\n      <td>True</td>\n      <td>False</td>\n      <td>True</td>\n    </tr>\n    <tr>\n      <th>1</th>\n      <td>Tenth Edition</td>\n      <td>Aven Cloudchaser</td>\n      <td>c0de6fd8-367a-50fb-b2f4-2b8fa5aeb7d9</td>\n      <td>[W]</td>\n      <td>True</td>\n      <td>False</td>\n      <td>True</td>\n    </tr>\n    <tr>\n      <th>2</th>\n      <td>Tenth Edition</td>\n      <td>Ballista Squad</td>\n      <td>bfbb65b1-f1bb-5355-9495-fb094f9b0782</td>\n      <td>[W]</td>\n      <td>True</td>\n      <td>True</td>\n      <td>True</td>\n    </tr>\n    <tr>\n      <th>3</th>\n      <td>Tenth Edition</td>\n      <td>Bandage</td>\n      <td>a634f6df-fd74-54d9-a56c-3fdd2ad3e9bf</td>\n      <td>[W]</td>\n      <td>True</td>\n      <td>True</td>\n      <td>True</td>\n    </tr>\n    <tr>\n      <th>4</th>\n      <td>Tenth Edition</td>\n      <td>Beacon of Immortality</td>\n      <td>43f8222f-3fd5-5491-9e76-5b1cc9a86e93</td>\n      <td>[W]</td>\n      <td>True</td>\n      <td>True</td>\n      <td>True</td>\n    </tr>\n    <tr>\n      <th>...</th>\n      <td>...</td>\n      <td>...</td>\n      <td>...</td>\n      <td>...</td>\n      <td>...</td>\n      <td>...</td>\n      <td>...</td>\n    </tr>\n    <tr>\n      <th>502</th>\n      <td>Tenth Edition</td>\n      <td>Fog Elemental</td>\n      <td>6cbe5d76-5244-5a2a-b9d1-30272b9e7d7a</td>\n      <td>[U]</td>\n      <td>False</td>\n      <td>True</td>\n      <td>True</td>\n    </tr>\n    <tr>\n      <th>503</th>\n      <td>Tenth Edition</td>\n      <td>Mahamoti Djinn</td>\n      <td>9b06de27-31d8-503b-ae35-b291ea9da383</td>\n      <td>[U]</td>\n      <td>False</td>\n      <td>True</td>\n      <td>True</td>\n    </tr>\n    <tr>\n      <th>504</th>\n      <td>Tenth Edition</td>\n      <td>March of the Machines</td>\n      <td>cfb2cdd2-2a70-5ec8-b4d0-bd9d51c2db75</td>\n      <td>[U]</td>\n      <td>False</td>\n      <td>True</td>\n      <td>True</td>\n    </tr>\n    <tr>\n      <th>505</th>\n      <td>Tenth Edition</td>\n      <td>Mind Bend</td>\n      <td>9ce04474-1ee6-5ac2-812a-dace4c7331ce</td>\n      <td>[U]</td>\n      <td>False</td>\n      <td>True</td>\n      <td>True</td>\n    </tr>\n    <tr>\n      <th>506</th>\n      <td>Tenth Edition</td>\n      <td>Persuasion</td>\n      <td>c9e15486-c19b-5fe2-8d16-87b1bed3b809</td>\n      <td>[U]</td>\n      <td>False</td>\n      <td>True</td>\n      <td>True</td>\n    </tr>\n  </tbody>\n</table>\n<p>507 rows × 7 columns</p>\n</div>"
     },
     "execution_count": 55,
     "metadata": {},
     "output_type": "execute_result"
    }
   ],
   "source": [
    "card_info_df"
   ],
   "metadata": {
    "collapsed": false,
    "pycharm": {
     "name": "#%%\n"
    }
   }
  }
 ],
 "metadata": {
  "kernelspec": {
   "display_name": "Python 3 (ipykernel)",
   "language": "python",
   "name": "python3"
  },
  "language_info": {
   "codemirror_mode": {
    "name": "ipython",
    "version": 3
   },
   "file_extension": ".py",
   "mimetype": "text/x-python",
   "name": "python",
   "nbconvert_exporter": "python",
   "pygments_lexer": "ipython3",
   "version": "3.9.9"
  }
 },
 "nbformat": 4,
 "nbformat_minor": 5
}